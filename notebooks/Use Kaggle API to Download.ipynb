{
 "cells": [
  {
   "cell_type": "code",
   "execution_count": 1,
   "metadata": {},
   "outputs": [
    {
     "name": "stdout",
     "output_type": "stream",
     "text": [
      "Collecting kaggle\n",
      "  Downloading https://files.pythonhosted.org/packages/62/ab/bb20f9b9e24f9a6250f95a432f8d9a7d745f8d24039d7a5a6eaadb7783ba/kaggle-1.5.6.tar.gz (58kB)\n",
      "Requirement already satisfied: urllib3<1.25,>=1.21.1 in c:\\anaconda2\\lib\\site-packages (from kaggle) (1.24.2)\n",
      "Requirement already satisfied: six>=1.10 in c:\\anaconda2\\lib\\site-packages (from kaggle) (1.12.0)\n",
      "Requirement already satisfied: certifi in c:\\anaconda2\\lib\\site-packages (from kaggle) (2019.9.11)\n",
      "Requirement already satisfied: python-dateutil in c:\\anaconda2\\lib\\site-packages (from kaggle) (2.8.0)\n",
      "Requirement already satisfied: requests in c:\\anaconda2\\lib\\site-packages (from kaggle) (2.22.0)\n",
      "Requirement already satisfied: tqdm in c:\\anaconda2\\lib\\site-packages (from kaggle) (4.36.1)\n",
      "Collecting python-slugify (from kaggle)\n",
      "  Downloading https://files.pythonhosted.org/packages/92/5f/7b84a0bba8a0fdd50c046f8b57dcf179dc16237ad33446079b7c484de04c/python-slugify-4.0.0.tar.gz\n",
      "Requirement already satisfied: idna<2.9,>=2.5 in c:\\anaconda2\\lib\\site-packages (from requests->kaggle) (2.8)\n",
      "Requirement already satisfied: chardet<3.1.0,>=3.0.2 in c:\\anaconda2\\lib\\site-packages (from requests->kaggle) (3.0.4)\n",
      "Collecting text-unidecode>=1.3 (from python-slugify->kaggle)\n",
      "  Downloading https://files.pythonhosted.org/packages/a6/a5/c0b6468d3824fe3fde30dbb5e1f687b291608f9473681bbf7dabbf5a87d7/text_unidecode-1.3-py2.py3-none-any.whl (78kB)\n",
      "Building wheels for collected packages: kaggle, python-slugify\n",
      "  Building wheel for kaggle (setup.py): started\n",
      "  Building wheel for kaggle (setup.py): finished with status 'done'\n",
      "  Created wheel for kaggle: filename=kaggle-1.5.6-cp27-none-any.whl size=72872 sha256=8545651b465e2b6de619e39c9379068db9b15600f16014841c0106604364d043\n",
      "  Stored in directory: C:\\Users\\badelang\\AppData\\Local\\pip\\Cache\\wheels\\57\\4e\\e8\\bb28d035162fb8f17f8ca5d42c3230e284c6aa565b42b72674\n",
      "  Building wheel for python-slugify (setup.py): started\n",
      "  Building wheel for python-slugify (setup.py): finished with status 'done'\n",
      "  Created wheel for python-slugify: filename=python_slugify-4.0.0-py2.py3-none-any.whl size=5505 sha256=7803cd77773b73a7c01e2bac0595310dc97b7037f6daa2ea02914811fa52a0b5\n",
      "  Stored in directory: C:\\Users\\badelang\\AppData\\Local\\pip\\Cache\\wheels\\11\\94\\81\\312969455540cb0e6a773e5d68a73c14128bfdfd4a7969bb4f\n",
      "Successfully built kaggle python-slugify\n",
      "Installing collected packages: text-unidecode, python-slugify, kaggle\n",
      "Successfully installed kaggle-1.5.6 python-slugify-4.0.0 text-unidecode-1.3\n"
     ]
    },
    {
     "name": "stderr",
     "output_type": "stream",
     "text": [
      "DEPRECATION: Python 2.7 will reach the end of its life on January 1st, 2020. Please upgrade your Python as Python 2.7 won't be maintained after that date. A future version of pip will drop support for Python 2.7. More details about Python 2 support in pip, can be found at https://pip.pypa.io/en/latest/development/release-process/#python-2-support\n"
     ]
    }
   ],
   "source": [
    "! pip install kaggle"
   ]
  },
  {
   "cell_type": "code",
   "execution_count": 6,
   "metadata": {},
   "outputs": [
    {
     "name": "stdout",
     "output_type": "stream",
     "text": [
      "Downloading titanic.zip to C:\\Users\\badelang\\source\\repos\\DataSciencePython\\titanic\\data\\external\n",
      "\n"
     ]
    },
    {
     "name": "stderr",
     "output_type": "stream",
     "text": [
      "\n",
      "  0%|          | 0.00/33.9k [00:00<?, ?B/s]\n",
      "100%|â–ˆâ–ˆâ–ˆâ–ˆâ–ˆâ–ˆâ–ˆâ–ˆâ–ˆâ–ˆ| 33.9k/33.9k [00:00<00:00, 1.66MB/s]\n"
     ]
    }
   ],
   "source": [
    "!kaggle competitions download -c titanic -p \"C:\\Users\\badelang\\source\\repos\\DataSciencePython\\titanic\\data\\external\""
   ]
  },
  {
   "cell_type": "code",
   "execution_count": null,
   "metadata": {},
   "outputs": [],
   "source": []
  }
 ],
 "metadata": {
  "kernelspec": {
   "display_name": "Python 2",
   "language": "python",
   "name": "python2"
  },
  "language_info": {
   "codemirror_mode": {
    "name": "ipython",
    "version": 2
   },
   "file_extension": ".py",
   "mimetype": "text/x-python",
   "name": "python",
   "nbconvert_exporter": "python",
   "pygments_lexer": "ipython2",
   "version": "2.7.16"
  }
 },
 "nbformat": 4,
 "nbformat_minor": 2
}
